{
 "cells": [
  {
   "cell_type": "markdown",
   "id": "db5bd2ce-918a-4f7d-a927-a3ea74c4b456",
   "metadata": {},
   "source": [
    "## The Nobel Prize\n",
    "\n",
    "The Nobel Prize has been among the most prestigious international awards since 1901. Each year, awards are bestowed in chemistry, literature, physics, physiology or medicine, economics, and peace. In addition to the honor, prestige, and substantial prize money, the recipient also gets a gold medal with an image of Alfred Nobel (1833 - 1896), who established the prize.\n",
    "\n",
    "The Nobel Foundation has made a dataset available of all prize winners from the outset of the awards from 1901 to 2023. The dataset used in this project is from the Nobel Prize API and is available in the `nobel.csv` file in the `data` folder.\n",
    "\n",
    "In this project, you'll get a chance to explore and answer several questions related to this prizewinning data. And we encourage you then to explore further questions that you're interested in!"
   ]
  },
  {
   "cell_type": "code",
   "execution_count": 1,
   "id": "11fd5946-7bd1-495c-aa7f-ff6e7e4a350b",
   "metadata": {
    "executionCancelledAt": null,
    "executionTime": 9,
    "lastExecutedAt": 1709515987114,
    "lastScheduledRunId": null,
    "lastSuccessfullyExecutedCode": "# Loading in required libraries\nimport pandas as pd\nimport seaborn as sns\nimport numpy as np\n\n# Start coding here!"
   },
   "outputs": [],
   "source": [
    "# Loading in required libraries\n",
    "import pandas as pd\n",
    "import seaborn as sns\n",
    "import numpy as np\n",
    "\n",
    "# Start coding here!"
   ]
  },
  {
   "cell_type": "code",
   "execution_count": 47,
   "id": "ff9691d5-3f53-44bb-b798-3963c50e1fad",
   "metadata": {
    "executionCancelledAt": null,
    "executionTime": 52,
    "lastExecutedAt": 1709515987166,
    "lastScheduledRunId": null,
    "lastSuccessfullyExecutedCode": "df=pd.read_csv('data/nobel.csv')\ndf.tail()",
    "outputsMetadata": {
     "0": {
      "height": 215,
      "type": "dataFrame"
     }
    }
   },
   "outputs": [
    {
     "data": {
      "text/html": [
       "<div>\n",
       "<style scoped>\n",
       "    .dataframe tbody tr th:only-of-type {\n",
       "        vertical-align: middle;\n",
       "    }\n",
       "\n",
       "    .dataframe tbody tr th {\n",
       "        vertical-align: top;\n",
       "    }\n",
       "\n",
       "    .dataframe thead th {\n",
       "        text-align: right;\n",
       "    }\n",
       "</style>\n",
       "<table border=\"1\" class=\"dataframe\">\n",
       "  <thead>\n",
       "    <tr style=\"text-align: right;\">\n",
       "      <th></th>\n",
       "      <th>year</th>\n",
       "      <th>category</th>\n",
       "      <th>prize</th>\n",
       "      <th>motivation</th>\n",
       "      <th>prize_share</th>\n",
       "      <th>laureate_id</th>\n",
       "      <th>laureate_type</th>\n",
       "      <th>full_name</th>\n",
       "      <th>birth_date</th>\n",
       "      <th>birth_city</th>\n",
       "      <th>birth_country</th>\n",
       "      <th>sex</th>\n",
       "      <th>organization_name</th>\n",
       "      <th>organization_city</th>\n",
       "      <th>organization_country</th>\n",
       "      <th>death_date</th>\n",
       "      <th>death_city</th>\n",
       "      <th>death_country</th>\n",
       "    </tr>\n",
       "  </thead>\n",
       "  <tbody>\n",
       "    <tr>\n",
       "      <th>998</th>\n",
       "      <td>2023</td>\n",
       "      <td>Peace</td>\n",
       "      <td>The Nobel Peace Prize 2023</td>\n",
       "      <td>\"for her fight against the oppression of women...</td>\n",
       "      <td>1/1</td>\n",
       "      <td>1033</td>\n",
       "      <td>Individual</td>\n",
       "      <td>Narges Mohammadi</td>\n",
       "      <td>1972-04-21</td>\n",
       "      <td>Zanjan</td>\n",
       "      <td>Iran</td>\n",
       "      <td>Female</td>\n",
       "      <td>NaN</td>\n",
       "      <td>NaN</td>\n",
       "      <td>NaN</td>\n",
       "      <td>NaN</td>\n",
       "      <td>NaN</td>\n",
       "      <td>NaN</td>\n",
       "    </tr>\n",
       "    <tr>\n",
       "      <th>999</th>\n",
       "      <td>2023</td>\n",
       "      <td>Economics</td>\n",
       "      <td>The Sveriges Riksbank Prize in Economic Scienc...</td>\n",
       "      <td>\"for having advanced our understanding of wome...</td>\n",
       "      <td>1/1</td>\n",
       "      <td>1034</td>\n",
       "      <td>Individual</td>\n",
       "      <td>Claudia Goldin</td>\n",
       "      <td>1946-00-00</td>\n",
       "      <td>New York, NY</td>\n",
       "      <td>United States of America</td>\n",
       "      <td>Female</td>\n",
       "      <td>Harvard University</td>\n",
       "      <td>Cambridge, MA</td>\n",
       "      <td>United States of America</td>\n",
       "      <td>NaN</td>\n",
       "      <td>NaN</td>\n",
       "      <td>NaN</td>\n",
       "    </tr>\n",
       "  </tbody>\n",
       "</table>\n",
       "</div>"
      ],
      "text/plain": [
       "     year   category                                              prize  \\\n",
       "998  2023      Peace                         The Nobel Peace Prize 2023   \n",
       "999  2023  Economics  The Sveriges Riksbank Prize in Economic Scienc...   \n",
       "\n",
       "                                            motivation prize_share  \\\n",
       "998  \"for her fight against the oppression of women...         1/1   \n",
       "999  \"for having advanced our understanding of wome...         1/1   \n",
       "\n",
       "     laureate_id laureate_type         full_name  birth_date    birth_city  \\\n",
       "998         1033    Individual  Narges Mohammadi  1972-04-21        Zanjan   \n",
       "999         1034    Individual    Claudia Goldin  1946-00-00  New York, NY   \n",
       "\n",
       "                birth_country     sex   organization_name organization_city  \\\n",
       "998                      Iran  Female                 NaN               NaN   \n",
       "999  United States of America  Female  Harvard University     Cambridge, MA   \n",
       "\n",
       "         organization_country death_date death_city death_country  \n",
       "998                       NaN        NaN        NaN           NaN  \n",
       "999  United States of America        NaN        NaN           NaN  "
      ]
     },
     "execution_count": 47,
     "metadata": {},
     "output_type": "execute_result"
    }
   ],
   "source": [
    "df=pd.read_csv('data/nobel.csv')\n",
    "df.tail(2)"
   ]
  },
  {
   "cell_type": "code",
   "execution_count": 40,
   "id": "b95c7dc0-72eb-4b24-9b14-0d6982f2e24d",
   "metadata": {
    "executionCancelledAt": null,
    "executionTime": 51,
    "lastExecutedAt": 1709515987217,
    "lastScheduledRunId": null,
    "lastSuccessfullyExecutedCode": "df['sex'].value_counts()"
   },
   "outputs": [
    {
     "data": {
      "text/plain": [
       "Male      905\n",
       "Female     65\n",
       "Name: sex, dtype: int64"
      ]
     },
     "execution_count": 40,
     "metadata": {},
     "output_type": "execute_result"
    }
   ],
   "source": [
    "df['sex'].value_counts()"
   ]
  },
  {
   "cell_type": "markdown",
   "id": "a4f8c604",
   "metadata": {
    "executionCancelledAt": null,
    "executionTime": 47,
    "lastExecutedAt": 1709515987265,
    "lastScheduledRunId": null,
    "lastSuccessfullyExecutedCode": "top_gender = 'Male'"
   },
   "source": [
    "#### Most of the winners are  Male"
   ]
  },
  {
   "cell_type": "code",
   "execution_count": 7,
   "id": "034adfd3-f0d9-41ae-8ea5-572b7f70d81c",
   "metadata": {
    "executionCancelledAt": null,
    "executionTime": 57,
    "lastExecutedAt": 1709515987322,
    "lastScheduledRunId": null,
    "lastSuccessfullyExecutedCode": "df['birth_country'].value_counts()",
    "scrolled": true
   },
   "outputs": [
    {
     "data": {
      "text/plain": [
       "United States of America                        291\n",
       "United Kingdom                                   91\n",
       "Germany                                          67\n",
       "France                                           58\n",
       "Sweden                                           30\n",
       "                                               ... \n",
       "Austria-Hungary (Ukraine)                         1\n",
       "Ottoman Empire (Turkey)                           1\n",
       "Russian Empire (Azerbaijan)                       1\n",
       "Bosnia (Bosnia and Herzegovina)                   1\n",
       "French protectorate of Tunisia (now Tunisia)      1\n",
       "Name: birth_country, Length: 129, dtype: int64"
      ]
     },
     "execution_count": 7,
     "metadata": {},
     "output_type": "execute_result"
    }
   ],
   "source": [
    "df['birth_country'].value_counts()"
   ]
  },
  {
   "cell_type": "markdown",
   "id": "f4b875ea",
   "metadata": {},
   "source": [
    "#### The country with most winners is  United States of America"
   ]
  },
  {
   "cell_type": "code",
   "execution_count": 48,
   "id": "37740a32-4c83-48d2-9f03-04ebffe04eb9",
   "metadata": {
    "executionCancelledAt": null,
    "executionTime": 84,
    "lastExecutedAt": 1709515987453,
    "lastScheduledRunId": null,
    "lastSuccessfullyExecutedCode": "df_us_w = df[df['birth_country']=='United States of America']\ndf_us_w",
    "outputsMetadata": {
     "0": {
      "height": 340,
      "type": "dataFrame"
     }
    }
   },
   "outputs": [
    {
     "data": {
      "text/html": [
       "<div>\n",
       "<style scoped>\n",
       "    .dataframe tbody tr th:only-of-type {\n",
       "        vertical-align: middle;\n",
       "    }\n",
       "\n",
       "    .dataframe tbody tr th {\n",
       "        vertical-align: top;\n",
       "    }\n",
       "\n",
       "    .dataframe thead th {\n",
       "        text-align: right;\n",
       "    }\n",
       "</style>\n",
       "<table border=\"1\" class=\"dataframe\">\n",
       "  <thead>\n",
       "    <tr style=\"text-align: right;\">\n",
       "      <th></th>\n",
       "      <th>year</th>\n",
       "      <th>category</th>\n",
       "      <th>prize</th>\n",
       "      <th>motivation</th>\n",
       "      <th>prize_share</th>\n",
       "      <th>laureate_id</th>\n",
       "      <th>laureate_type</th>\n",
       "      <th>full_name</th>\n",
       "      <th>birth_date</th>\n",
       "      <th>birth_city</th>\n",
       "      <th>birth_country</th>\n",
       "      <th>sex</th>\n",
       "      <th>organization_name</th>\n",
       "      <th>organization_city</th>\n",
       "      <th>organization_country</th>\n",
       "      <th>death_date</th>\n",
       "      <th>death_city</th>\n",
       "      <th>death_country</th>\n",
       "    </tr>\n",
       "  </thead>\n",
       "  <tbody>\n",
       "    <tr>\n",
       "      <th>35</th>\n",
       "      <td>1906</td>\n",
       "      <td>Peace</td>\n",
       "      <td>The Nobel Peace Prize 1906</td>\n",
       "      <td>NaN</td>\n",
       "      <td>1/1</td>\n",
       "      <td>470</td>\n",
       "      <td>Individual</td>\n",
       "      <td>Theodore Roosevelt</td>\n",
       "      <td>1858-10-27</td>\n",
       "      <td>New York, NY</td>\n",
       "      <td>United States of America</td>\n",
       "      <td>Male</td>\n",
       "      <td>NaN</td>\n",
       "      <td>NaN</td>\n",
       "      <td>NaN</td>\n",
       "      <td>1919-01-06</td>\n",
       "      <td>Oyster Bay, NY</td>\n",
       "      <td>United States of America</td>\n",
       "    </tr>\n",
       "    <tr>\n",
       "      <th>72</th>\n",
       "      <td>1912</td>\n",
       "      <td>Peace</td>\n",
       "      <td>The Nobel Peace Prize 1912</td>\n",
       "      <td>NaN</td>\n",
       "      <td>1/1</td>\n",
       "      <td>480</td>\n",
       "      <td>Individual</td>\n",
       "      <td>Elihu Root</td>\n",
       "      <td>1845-02-15</td>\n",
       "      <td>Clinton, NY</td>\n",
       "      <td>United States of America</td>\n",
       "      <td>Male</td>\n",
       "      <td>NaN</td>\n",
       "      <td>NaN</td>\n",
       "      <td>NaN</td>\n",
       "      <td>1937-02-07</td>\n",
       "      <td>New York, NY</td>\n",
       "      <td>United States of America</td>\n",
       "    </tr>\n",
       "  </tbody>\n",
       "</table>\n",
       "</div>"
      ],
      "text/plain": [
       "    year category                       prize motivation prize_share  \\\n",
       "35  1906    Peace  The Nobel Peace Prize 1906        NaN         1/1   \n",
       "72  1912    Peace  The Nobel Peace Prize 1912        NaN         1/1   \n",
       "\n",
       "    laureate_id laureate_type           full_name  birth_date    birth_city  \\\n",
       "35          470    Individual  Theodore Roosevelt  1858-10-27  New York, NY   \n",
       "72          480    Individual          Elihu Root  1845-02-15   Clinton, NY   \n",
       "\n",
       "               birth_country   sex organization_name organization_city  \\\n",
       "35  United States of America  Male               NaN               NaN   \n",
       "72  United States of America  Male               NaN               NaN   \n",
       "\n",
       "   organization_country  death_date      death_city             death_country  \n",
       "35                  NaN  1919-01-06  Oyster Bay, NY  United States of America  \n",
       "72                  NaN  1937-02-07    New York, NY  United States of America  "
      ]
     },
     "execution_count": 48,
     "metadata": {},
     "output_type": "execute_result"
    }
   ],
   "source": [
    "df_us_w = df[df['birth_country']=='United States of America']\n",
    "df_us_w.head(2)"
   ]
  },
  {
   "cell_type": "code",
   "execution_count": 10,
   "id": "68ffae70-7ddf-4011-851a-3421ef14c83c",
   "metadata": {
    "executionCancelledAt": null,
    "executionTime": 48,
    "lastExecutedAt": 1709515987501,
    "lastScheduledRunId": null,
    "lastSuccessfullyExecutedCode": "no_complete_deca = int(len(df['year'].unique())/10)"
   },
   "outputs": [],
   "source": [
    "no_complete_deca = int(len(df['year'].unique())/10)"
   ]
  },
  {
   "cell_type": "code",
   "execution_count": 49,
   "id": "d9aab2c6-135a-403b-9a8f-6beacda39c12",
   "metadata": {
    "executionCancelledAt": null,
    "executionTime": 48,
    "lastExecutedAt": 1709515987549,
    "lastScheduledRunId": null,
    "lastSuccessfullyExecutedCode": "\nfor i in range(1,no_complete_deca +1 +1):\n    x=10*i\n    p_decada = 1890+x\n    f_decada = 1899+x\n    no = df_us_w[(df_us_w['year']>=p_decada)&(df_us_w['year']<=f_decada)].value_counts('year').sum()\n    print(p_decada, ' - ', f_decada, ' el total = ', no)\n    #print(p_decada,'-',f_decada)",
    "outputsMetadata": {
     "0": {
      "height": 277,
      "type": "stream"
     }
    }
   },
   "outputs": [
    {
     "name": "stdout",
     "output_type": "stream",
     "text": [
      "1900  -  1909  el total =  1\n",
      "1910  -  1919  el total =  3\n",
      "1920  -  1929  el total =  4\n",
      "1930  -  1939  el total =  14\n",
      "1940  -  1949  el total =  13\n",
      "1950  -  1959  el total =  21\n",
      "1960  -  1969  el total =  21\n",
      "1970  -  1979  el total =  33\n",
      "1980  -  1989  el total =  31\n",
      "1990  -  1999  el total =  42\n",
      "2000  -  2009  el total =  52\n",
      "2010  -  2019  el total =  38\n",
      "2020  -  2029  el total =  18\n"
     ]
    }
   ],
   "source": [
    "\n",
    "for i in range(1,no_complete_deca +1 +1):\n",
    "    x=10*i\n",
    "    p_decada = 1890+x\n",
    "    f_decada = 1899+x\n",
    "    no = df_us_w[(df_us_w['year']>=p_decada)&(df_us_w['year']<=f_decada)].value_counts('year').sum()\n",
    "    print(p_decada, ' - ', f_decada, ' el total = ', no)"
   ]
  },
  {
   "cell_type": "markdown",
   "id": "c51ee6df",
   "metadata": {},
   "source": [
    "#### The decade with more USA prizes was 2000"
   ]
  },
  {
   "cell_type": "code",
   "execution_count": 13,
   "id": "98050c23-9727-4806-8b70-6181bc34c0ae",
   "metadata": {
    "executionCancelledAt": null,
    "executionTime": 55,
    "lastExecutedAt": 1709515987652,
    "lastScheduledRunId": null,
    "lastSuccessfullyExecutedCode": "df_year = df['year']\ndecade = []\nfor i in range(1,no_complete_deca +1 +1):\n    x=10*i\n    p_decada = 1890+x\n    f_decada = 1899+x\n    for i in df_year:\n        if (i >=p_decada) & (i <=f_decada):\n            decade.append(p_decada)",
    "outputsMetadata": {
     "0": {
      "height": 386,
      "type": "stream"
     }
    }
   },
   "outputs": [],
   "source": [
    "df_year = df['year']\n",
    "decade = []\n",
    "for i in range(1,no_complete_deca +1 +1):\n",
    "    x=10*i\n",
    "    p_decada = 1890+x\n",
    "    f_decada = 1899+x\n",
    "    for i in df_year:\n",
    "        if (i >=p_decada) & (i <=f_decada):\n",
    "            decade.append(p_decada)"
   ]
  },
  {
   "cell_type": "code",
   "execution_count": 14,
   "id": "70c4ea71-6f1e-4983-8595-6dc604db3511",
   "metadata": {
    "executionCancelledAt": null,
    "executionTime": 47,
    "lastExecutedAt": 1709515987700,
    "lastScheduledRunId": null,
    "lastSuccessfullyExecutedCode": "df['decade'] = decade"
   },
   "outputs": [],
   "source": [
    "df['decade'] = decade"
   ]
  },
  {
   "cell_type": "code",
   "execution_count": 16,
   "id": "29872b6f-3b16-42f1-9946-7cd37f4412f9",
   "metadata": {
    "executionCancelledAt": null,
    "executionTime": 60,
    "lastExecutedAt": 1709515987822,
    "lastScheduledRunId": null,
    "lastSuccessfullyExecutedCode": "df_female = df[df['sex']=='Female'][['decade','category']]\ndf_female",
    "outputsMetadata": {
     "0": {
      "height": 323,
      "type": "dataFrame"
     }
    }
   },
   "outputs": [
    {
     "data": {
      "text/html": [
       "<div>\n",
       "<style scoped>\n",
       "    .dataframe tbody tr th:only-of-type {\n",
       "        vertical-align: middle;\n",
       "    }\n",
       "\n",
       "    .dataframe tbody tr th {\n",
       "        vertical-align: top;\n",
       "    }\n",
       "\n",
       "    .dataframe thead th {\n",
       "        text-align: right;\n",
       "    }\n",
       "</style>\n",
       "<table border=\"1\" class=\"dataframe\">\n",
       "  <thead>\n",
       "    <tr style=\"text-align: right;\">\n",
       "      <th></th>\n",
       "      <th>decade</th>\n",
       "      <th>category</th>\n",
       "      <th>year</th>\n",
       "    </tr>\n",
       "  </thead>\n",
       "  <tbody>\n",
       "    <tr>\n",
       "      <th>19</th>\n",
       "      <td>1900</td>\n",
       "      <td>Physics</td>\n",
       "      <td>1903</td>\n",
       "    </tr>\n",
       "    <tr>\n",
       "      <th>29</th>\n",
       "      <td>1900</td>\n",
       "      <td>Peace</td>\n",
       "      <td>1905</td>\n",
       "    </tr>\n",
       "    <tr>\n",
       "      <th>51</th>\n",
       "      <td>1900</td>\n",
       "      <td>Literature</td>\n",
       "      <td>1909</td>\n",
       "    </tr>\n",
       "    <tr>\n",
       "      <th>62</th>\n",
       "      <td>1910</td>\n",
       "      <td>Chemistry</td>\n",
       "      <td>1911</td>\n",
       "    </tr>\n",
       "    <tr>\n",
       "      <th>128</th>\n",
       "      <td>1920</td>\n",
       "      <td>Literature</td>\n",
       "      <td>1926</td>\n",
       "    </tr>\n",
       "    <tr>\n",
       "      <th>...</th>\n",
       "      <td>...</td>\n",
       "      <td>...</td>\n",
       "      <td>...</td>\n",
       "    </tr>\n",
       "    <tr>\n",
       "      <th>982</th>\n",
       "      <td>2020</td>\n",
       "      <td>Literature</td>\n",
       "      <td>2022</td>\n",
       "    </tr>\n",
       "    <tr>\n",
       "      <th>989</th>\n",
       "      <td>2020</td>\n",
       "      <td>Medicine</td>\n",
       "      <td>2023</td>\n",
       "    </tr>\n",
       "    <tr>\n",
       "      <th>993</th>\n",
       "      <td>2020</td>\n",
       "      <td>Physics</td>\n",
       "      <td>2023</td>\n",
       "    </tr>\n",
       "    <tr>\n",
       "      <th>998</th>\n",
       "      <td>2020</td>\n",
       "      <td>Peace</td>\n",
       "      <td>2023</td>\n",
       "    </tr>\n",
       "    <tr>\n",
       "      <th>999</th>\n",
       "      <td>2020</td>\n",
       "      <td>Economics</td>\n",
       "      <td>2023</td>\n",
       "    </tr>\n",
       "  </tbody>\n",
       "</table>\n",
       "<p>65 rows × 3 columns</p>\n",
       "</div>"
      ],
      "text/plain": [
       "     decade    category  year\n",
       "19     1900     Physics  1903\n",
       "29     1900       Peace  1905\n",
       "51     1900  Literature  1909\n",
       "62     1910   Chemistry  1911\n",
       "128    1920  Literature  1926\n",
       "..      ...         ...   ...\n",
       "982    2020  Literature  2022\n",
       "989    2020    Medicine  2023\n",
       "993    2020     Physics  2023\n",
       "998    2020       Peace  2023\n",
       "999    2020   Economics  2023\n",
       "\n",
       "[65 rows x 3 columns]"
      ]
     },
     "execution_count": 16,
     "metadata": {},
     "output_type": "execute_result"
    }
   ],
   "source": [
    "df_female = df[df['sex']=='Female'][['decade','category','year']]\n",
    "df_female"
   ]
  },
  {
   "cell_type": "code",
   "execution_count": 18,
   "id": "f9091de9-91b8-48e1-acc0-45a7743aa775",
   "metadata": {
    "executionCancelledAt": null,
    "executionTime": 47,
    "lastExecutedAt": 1709515987973,
    "lastScheduledRunId": null,
    "lastSuccessfullyExecutedCode": "unique_decade = list(set(decade))\nunique_decade.sort()"
   },
   "outputs": [
    {
     "data": {
      "text/plain": [
       "[1900, 1910, 1920, 1930, 1940, 1950, 1960, 1970, 1980, 1990, 2000, 2010, 2020]"
      ]
     },
     "execution_count": 18,
     "metadata": {},
     "output_type": "execute_result"
    }
   ],
   "source": [
    "unique_decade = list(set(decade))\n",
    "unique_decade.sort()\n",
    "unique_decade"
   ]
  },
  {
   "cell_type": "code",
   "execution_count": 44,
   "id": "bdc694d9-2ae0-4461-936f-ca3c7f742120",
   "metadata": {
    "executionCancelledAt": null,
    "executionTime": 51,
    "lastExecutedAt": 1709515988025,
    "lastScheduledRunId": null,
    "lastSuccessfullyExecutedCode": "for i in unique_decade:\n    print('decade: ',i,df_female[df_female['decade']==i].value_counts('category'))",
    "outputsMetadata": {
     "0": {
      "height": 440,
      "type": "stream"
     }
    }
   },
   "outputs": [
    {
     "name": "stdout",
     "output_type": "stream",
     "text": [
      "decade:  1900 category\n",
      "Literature    1\n",
      "Peace         1\n",
      "Physics       1\n",
      "dtype: int64\n",
      "decade:  1910 category\n",
      "Chemistry    1\n",
      "dtype: int64\n",
      "decade:  1920 category\n",
      "Literature    2\n",
      "dtype: int64\n",
      "decade:  1930 category\n",
      "Chemistry     1\n",
      "Literature    1\n",
      "Peace         1\n",
      "dtype: int64\n",
      "decade:  1940 category\n",
      "Literature    1\n",
      "Medicine      1\n",
      "Peace         1\n",
      "dtype: int64\n",
      "decade:  1950 Series([], dtype: int64)\n",
      "decade:  1960 category\n",
      "Chemistry     1\n",
      "Literature    1\n",
      "Physics       1\n",
      "dtype: int64\n",
      "decade:  1970 category\n",
      "Peace       3\n",
      "Medicine    1\n",
      "dtype: int64\n",
      "decade:  1980 category\n",
      "Medicine    3\n",
      "Peace       1\n",
      "dtype: int64\n",
      "decade:  1990 category\n",
      "Literature    3\n",
      "Peace         3\n",
      "Medicine      1\n",
      "dtype: int64\n",
      "decade:  2000 category\n",
      "Medicine      4\n",
      "Literature    3\n",
      "Peace         2\n",
      "Chemistry     1\n",
      "Economics     1\n",
      "dtype: int64\n",
      "decade:  2010 category\n",
      "Peace         5\n",
      "Literature    3\n",
      "Medicine      2\n",
      "Chemistry     1\n",
      "Economics     1\n",
      "Physics       1\n",
      "dtype: int64\n",
      "decade:  2020 category\n",
      "Chemistry     3\n",
      "Literature    2\n",
      "Peace         2\n",
      "Physics       2\n",
      "Economics     1\n",
      "Medicine      1\n",
      "dtype: int64\n"
     ]
    }
   ],
   "source": [
    "for i in unique_decade:\n",
    "    print('decade: ',i,df_female[(df_female['year']>=i)&(df_female['year']<=i+9)].value_counts('category'))"
   ]
  },
  {
   "cell_type": "markdown",
   "id": "2fd0db21",
   "metadata": {},
   "source": [
    "#### The year with more prizes to women was 2010 with 5 in Peace"
   ]
  },
  {
   "cell_type": "code",
   "execution_count": 21,
   "id": "5fa099b0-499b-4992-8fdd-bf313c90da8d",
   "metadata": {
    "executionCancelledAt": null,
    "executionTime": 57,
    "lastExecutedAt": 1709515988130,
    "lastScheduledRunId": null,
    "lastSuccessfullyExecutedCode": "df[(df['decade']==1900)&(df['sex']=='Female')]",
    "outputsMetadata": {
     "0": {
      "height": 165,
      "type": "dataFrame"
     }
    }
   },
   "outputs": [
    {
     "data": {
      "text/html": [
       "<div>\n",
       "<style scoped>\n",
       "    .dataframe tbody tr th:only-of-type {\n",
       "        vertical-align: middle;\n",
       "    }\n",
       "\n",
       "    .dataframe tbody tr th {\n",
       "        vertical-align: top;\n",
       "    }\n",
       "\n",
       "    .dataframe thead th {\n",
       "        text-align: right;\n",
       "    }\n",
       "</style>\n",
       "<table border=\"1\" class=\"dataframe\">\n",
       "  <thead>\n",
       "    <tr style=\"text-align: right;\">\n",
       "      <th></th>\n",
       "      <th>year</th>\n",
       "      <th>category</th>\n",
       "      <th>prize</th>\n",
       "      <th>motivation</th>\n",
       "      <th>prize_share</th>\n",
       "      <th>laureate_id</th>\n",
       "      <th>laureate_type</th>\n",
       "      <th>full_name</th>\n",
       "      <th>birth_date</th>\n",
       "      <th>birth_city</th>\n",
       "      <th>birth_country</th>\n",
       "      <th>sex</th>\n",
       "      <th>organization_name</th>\n",
       "      <th>organization_city</th>\n",
       "      <th>organization_country</th>\n",
       "      <th>death_date</th>\n",
       "      <th>death_city</th>\n",
       "      <th>death_country</th>\n",
       "      <th>decade</th>\n",
       "    </tr>\n",
       "  </thead>\n",
       "  <tbody>\n",
       "    <tr>\n",
       "      <th>19</th>\n",
       "      <td>1903</td>\n",
       "      <td>Physics</td>\n",
       "      <td>The Nobel Prize in Physics 1903</td>\n",
       "      <td>\"in recognition of the extraordinary services ...</td>\n",
       "      <td>1/4</td>\n",
       "      <td>6</td>\n",
       "      <td>Individual</td>\n",
       "      <td>Marie Curie, née Sklodowska</td>\n",
       "      <td>1867-11-07</td>\n",
       "      <td>Warsaw</td>\n",
       "      <td>Russian Empire (Poland)</td>\n",
       "      <td>Female</td>\n",
       "      <td>NaN</td>\n",
       "      <td>NaN</td>\n",
       "      <td>NaN</td>\n",
       "      <td>1934-07-04</td>\n",
       "      <td>Sallanches</td>\n",
       "      <td>France</td>\n",
       "      <td>1900</td>\n",
       "    </tr>\n",
       "    <tr>\n",
       "      <th>29</th>\n",
       "      <td>1905</td>\n",
       "      <td>Peace</td>\n",
       "      <td>The Nobel Peace Prize 1905</td>\n",
       "      <td>NaN</td>\n",
       "      <td>1/1</td>\n",
       "      <td>468</td>\n",
       "      <td>Individual</td>\n",
       "      <td>Baroness Bertha Sophie Felicita von Suttner, n...</td>\n",
       "      <td>1843-06-09</td>\n",
       "      <td>Prague</td>\n",
       "      <td>Austrian Empire (Czech Republic)</td>\n",
       "      <td>Female</td>\n",
       "      <td>NaN</td>\n",
       "      <td>NaN</td>\n",
       "      <td>NaN</td>\n",
       "      <td>1914-06-21</td>\n",
       "      <td>Vienna</td>\n",
       "      <td>Austria</td>\n",
       "      <td>1900</td>\n",
       "    </tr>\n",
       "    <tr>\n",
       "      <th>51</th>\n",
       "      <td>1909</td>\n",
       "      <td>Literature</td>\n",
       "      <td>The Nobel Prize in Literature 1909</td>\n",
       "      <td>\"in appreciation of the lofty idealism, vivid ...</td>\n",
       "      <td>1/1</td>\n",
       "      <td>579</td>\n",
       "      <td>Individual</td>\n",
       "      <td>Selma Ottilia Lovisa Lagerlöf</td>\n",
       "      <td>1858-11-20</td>\n",
       "      <td>Mårbacka</td>\n",
       "      <td>Sweden</td>\n",
       "      <td>Female</td>\n",
       "      <td>NaN</td>\n",
       "      <td>NaN</td>\n",
       "      <td>NaN</td>\n",
       "      <td>1940-03-16</td>\n",
       "      <td>Mårbacka</td>\n",
       "      <td>Sweden</td>\n",
       "      <td>1900</td>\n",
       "    </tr>\n",
       "  </tbody>\n",
       "</table>\n",
       "</div>"
      ],
      "text/plain": [
       "    year    category                               prize  \\\n",
       "19  1903     Physics     The Nobel Prize in Physics 1903   \n",
       "29  1905       Peace          The Nobel Peace Prize 1905   \n",
       "51  1909  Literature  The Nobel Prize in Literature 1909   \n",
       "\n",
       "                                           motivation prize_share  \\\n",
       "19  \"in recognition of the extraordinary services ...         1/4   \n",
       "29                                                NaN         1/1   \n",
       "51  \"in appreciation of the lofty idealism, vivid ...         1/1   \n",
       "\n",
       "    laureate_id laureate_type  \\\n",
       "19            6    Individual   \n",
       "29          468    Individual   \n",
       "51          579    Individual   \n",
       "\n",
       "                                            full_name  birth_date birth_city  \\\n",
       "19                        Marie Curie, née Sklodowska  1867-11-07     Warsaw   \n",
       "29  Baroness Bertha Sophie Felicita von Suttner, n...  1843-06-09     Prague   \n",
       "51                      Selma Ottilia Lovisa Lagerlöf  1858-11-20   Mårbacka   \n",
       "\n",
       "                       birth_country     sex organization_name  \\\n",
       "19           Russian Empire (Poland)  Female               NaN   \n",
       "29  Austrian Empire (Czech Republic)  Female               NaN   \n",
       "51                            Sweden  Female               NaN   \n",
       "\n",
       "   organization_city organization_country  death_date  death_city  \\\n",
       "19               NaN                  NaN  1934-07-04  Sallanches   \n",
       "29               NaN                  NaN  1914-06-21      Vienna   \n",
       "51               NaN                  NaN  1940-03-16    Mårbacka   \n",
       "\n",
       "   death_country  decade  \n",
       "19        France    1900  \n",
       "29       Austria    1900  \n",
       "51        Sweden    1900  "
      ]
     },
     "execution_count": 21,
     "metadata": {},
     "output_type": "execute_result"
    }
   ],
   "source": [
    "df[(df['decade']==1900)&(df['sex']=='Female')]"
   ]
  },
  {
   "cell_type": "code",
   "execution_count": 22,
   "id": "dfde0134-5bd2-4e0f-b2bf-7b6158e2a341",
   "metadata": {
    "executionCancelledAt": null,
    "executionTime": 46,
    "lastExecutedAt": 1709515988176,
    "lastScheduledRunId": null,
    "lastSuccessfullyExecutedCode": "first_woman_name = 'Marie Curie, née Sklodowska'"
   },
   "outputs": [],
   "source": [
    "first_woman_name = 'Marie Curie, née Sklodowska'"
   ]
  },
  {
   "cell_type": "code",
   "execution_count": 23,
   "id": "b75f429a-ee50-4416-a97f-2c30bc1fd6a3",
   "metadata": {
    "executionCancelledAt": null,
    "executionTime": 46,
    "lastExecutedAt": 1709515988224,
    "lastScheduledRunId": null,
    "lastSuccessfullyExecutedCode": "first_woman_category = 'Physics'"
   },
   "outputs": [],
   "source": [
    "first_woman_category = 'Physics'"
   ]
  },
  {
   "cell_type": "markdown",
   "id": "84389f89-b2e8-4cfe-b0cf-aa3b9d21d864",
   "metadata": {},
   "source": [
    "###  People who have won multiple Nobel Prizes."
   ]
  },
  {
   "cell_type": "code",
   "execution_count": 24,
   "id": "93094148-032f-42ae-8cf2-fcd340432ff8",
   "metadata": {
    "executionCancelledAt": null,
    "executionTime": 50,
    "lastExecutedAt": 1709515988276,
    "lastScheduledRunId": null,
    "lastSuccessfullyExecutedCode": "prices_per_indiv= df['full_name'].value_counts()\n",
    "outputsMetadata": {
     "0": {
      "height": 440,
      "type": "stream"
     }
    }
   },
   "outputs": [],
   "source": [
    "prices_per_indiv= df['full_name'].value_counts()\n"
   ]
  },
  {
   "cell_type": "code",
   "execution_count": 25,
   "id": "9c99ef53-10d7-4492-9128-8fa96cf1d033",
   "metadata": {
    "executionCancelledAt": null,
    "executionTime": 48,
    "lastExecutedAt": 1709515988325,
    "lastScheduledRunId": null,
    "lastSuccessfullyExecutedCode": "lista_ppi = prices_per_indiv[prices_per_indiv > 1].index"
   },
   "outputs": [],
   "source": [
    "lista_ppi = prices_per_indiv[prices_per_indiv > 1].index"
   ]
  },
  {
   "cell_type": "code",
   "execution_count": 26,
   "id": "67a3d631-ca31-4dc0-a480-cdec047b1daa",
   "metadata": {
    "executionCancelledAt": null,
    "executionTime": 48,
    "lastExecutedAt": 1709515988373,
    "lastScheduledRunId": null,
    "lastSuccessfullyExecutedCode": "len(lista_ppi)"
   },
   "outputs": [
    {
     "data": {
      "text/plain": [
       "6"
      ]
     },
     "execution_count": 26,
     "metadata": {},
     "output_type": "execute_result"
    }
   ],
   "source": [
    "len(lista_ppi)"
   ]
  },
  {
   "cell_type": "code",
   "execution_count": 27,
   "id": "2128e8b5-2498-471e-939a-2ff7974042cd",
   "metadata": {
    "executionCancelledAt": null,
    "executionTime": 47,
    "lastExecutedAt": 1709515988420,
    "lastScheduledRunId": null,
    "lastSuccessfullyExecutedCode": "lista_ppi = list(lista_ppi)"
   },
   "outputs": [],
   "source": [
    "lista_ppi = list(lista_ppi)"
   ]
  },
  {
   "cell_type": "code",
   "execution_count": 28,
   "id": "43ac594b-6eb0-4a4c-ae9d-1e9229c617ac",
   "metadata": {
    "executionCancelledAt": null,
    "executionTime": 46,
    "lastExecutedAt": 1709515988468,
    "lastScheduledRunId": null,
    "lastSuccessfullyExecutedCode": "repeat_list = []\nfor i in lista_ppi:\n    repeat_list.append(i)"
   },
   "outputs": [],
   "source": [
    "repeat_list = []\n",
    "for i in lista_ppi:\n",
    "    repeat_list.append(i)"
   ]
  },
  {
   "cell_type": "code",
   "execution_count": 46,
   "id": "0fba92f5-2c34-4dee-af42-94551ce6a6cb",
   "metadata": {
    "executionCancelledAt": null,
    "executionTime": 52,
    "lastExecutedAt": 1709515988825,
    "lastScheduledRunId": null,
    "lastSuccessfullyExecutedCode": "repeat_list"
   },
   "outputs": [
    {
     "data": {
      "text/plain": [
       "['Comité international de la Croix Rouge (International Committee of the Red Cross)',\n",
       " 'Linus Carl Pauling',\n",
       " 'John Bardeen',\n",
       " 'Frederick Sanger',\n",
       " 'Marie Curie, née Sklodowska',\n",
       " 'Office of the United Nations High Commissioner for Refugees (UNHCR)']"
      ]
     },
     "execution_count": 46,
     "metadata": {},
     "output_type": "execute_result"
    }
   ],
   "source": [
    "repeat_list"
   ]
  },
  {
   "cell_type": "markdown",
   "id": "7cc74229",
   "metadata": {},
   "source": [
    "### Results\n",
    "\n",
    "The gender with the most Nobel laureates is : Male\n",
    " The most common birth country of Nobel laureates is : United States of America\n",
    "\n",
    " The first woman to win a Nobel Prize was Marie Curie, née Sklodowska, in the category of Physics.\n",
    "\n",
    " The repeat winners are : ['Comité international de la Croix Rouge (International Committee of the Red Cross)', 'Linus Carl Pauling', 'John Bardeen', 'Frederick Sanger', 'Marie Curie, née Sklodowska', 'Office of the United Nations High Commissioner for Refugees (UNHCR)']"
   ]
  },
  {
   "cell_type": "code",
   "execution_count": null,
   "id": "aebab857",
   "metadata": {},
   "outputs": [],
   "source": []
  }
 ],
 "metadata": {
  "editor": "DataCamp Workspace",
  "kernelspec": {
   "display_name": "Python 3 (ipykernel)",
   "language": "python",
   "name": "python3"
  },
  "language_info": {
   "codemirror_mode": {
    "name": "ipython",
    "version": 3
   },
   "file_extension": ".py",
   "mimetype": "text/x-python",
   "name": "python",
   "nbconvert_exporter": "python",
   "pygments_lexer": "ipython3",
   "version": "3.9.13"
  }
 },
 "nbformat": 4,
 "nbformat_minor": 5
}
